{
 "cells": [
  {
   "cell_type": "code",
   "execution_count": 2,
   "id": "8cc67cdd",
   "metadata": {},
   "outputs": [
    {
     "name": "stdout",
     "output_type": "stream",
     "text": [
      "Original Dictionary :  {'Boys': [72, 68, 70, 69, 74], 'Girls': [63, 65, 69, 62, 61]}\n"
     ]
    }
   ],
   "source": [
    "                                                      #Question 1\n",
    "import numpy as np\n",
    "Dict= {\n",
    "   \"Boys\":[72,68,70,69,74],                       #generation of Dictionary\n",
    "    \"Girls\":[63,65,69,62,61] }\n",
    "print(\"Original Dictionary : \",Dict)"
   ]
  },
  {
   "cell_type": "code",
   "execution_count": 5,
   "id": "5aba10e1",
   "metadata": {},
   "outputs": [
    {
     "name": "stdout",
     "output_type": "stream",
     "text": [
      "[{'Boys': 72, 'Girls': 63}, {'Boys': 68, 'Girls': 65}, {'Boys': 70, 'Girls': 69}, {'Boys': 69, 'Girls': 62}, {'Boys': 74, 'Girls': 61}]\n"
     ]
    }
   ],
   "source": [
    "result = [{'Boys': boys_height, 'Girls': girls_height} for boys_height, girls_height in zip(Dict['Boys'], Dict['Girls'])]\n",
    "print(result)\n",
    "l = []\n",
    "for i in range(len(Dict[\"Boys\"])):\n",
    "  l.append({\"Boys\": Dict[\"Boys\"][i], \"Girls\": Dict[\"Girls\"][i]})"
   ]
  }
 ],
 "metadata": {
  "kernelspec": {
   "display_name": "Python 3 (ipykernel)",
   "language": "python",
   "name": "python3"
  },
  "language_info": {
   "codemirror_mode": {
    "name": "ipython",
    "version": 3
   },
   "file_extension": ".py",
   "mimetype": "text/x-python",
   "name": "python",
   "nbconvert_exporter": "python",
   "pygments_lexer": "ipython3",
   "version": "3.11.4"
  }
 },
 "nbformat": 4,
 "nbformat_minor": 5
}
