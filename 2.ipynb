{
 "cells": [
  {
   "cell_type": "code",
   "execution_count": 9,
   "id": "6fb71df6",
   "metadata": {},
   "outputs": [
    {
     "name": "stdout",
     "output_type": "stream",
     "text": [
      "[[ 23 147  68  46]\n",
      " [ 48 184   4 157]\n",
      " [197 116  83 182]]\n"
     ]
    }
   ],
   "source": [
    "                                                  #Question 2 \n",
    "\n",
    "import numpy as np\n",
    "arr1 = np.random.randint(0, 200, size=(3,4))     #generation of randon array\n",
    "print(arr1)\n"
   ]
  },
  {
   "cell_type": "code",
   "execution_count": 10,
   "id": "b46d6238",
   "metadata": {},
   "outputs": [
    {
     "name": "stdout",
     "output_type": "stream",
     "text": [
      "[ 71.    98.25 144.5 ]\n",
      "[46.67440412 74.51971216 46.78942188]\n",
      "[2178.5    5553.1875 2189.25  ]\n"
     ]
    }
   ],
   "source": [
    "                                                   #Part - a\n",
    "#mean\n",
    "mean_arr = np.mean(arr1, axis=1)\n",
    "print(mean_arr)\n",
    "\n",
    "#standard Deviation\n",
    "std_arr= np.std(arr1, axis=1)\n",
    "print(std_arr)\n",
    "\n",
    "#Variance\n",
    "variance_arr = np.var(arr1, axis=1)\n",
    "print(variance_arr)"
   ]
  },
  {
   "cell_type": "code",
   "execution_count": 11,
   "id": "d2ebb021",
   "metadata": {},
   "outputs": [
    {
     "name": "stdout",
     "output_type": "stream",
     "text": [
      "[8 2 6 9 3 7 1 0 4 5]\n"
     ]
    }
   ],
   "source": [
    "                                                #Part - b\n",
    "B = np.array([56, 48, 22, 41, 78, 91, 24, 46, 8, 33])\n",
    "indices = np.argsort(B)\n",
    "print(indices)"
   ]
  },
  {
   "cell_type": "code",
   "execution_count": 12,
   "id": "5528e1d1",
   "metadata": {},
   "outputs": [
    {
     "name": "stdout",
     "output_type": "stream",
     "text": [
      "Enter the number of rows(m) : 3\n",
      "Enter the number of columns(n) : 2\n",
      "[[94 37]\n",
      " [20  5]\n",
      " [46 30]]\n",
      "Shape of array  : (3, 2)\n",
      "Type of array  : <class 'numpy.ndarray'>\n",
      "Data type : int32\n",
      "Reshaped array : [[94 37 20]\n",
      " [ 5 46 30]]\n"
     ]
    }
   ],
   "source": [
    "                                              #Part - c\n",
    "m = int(input(\"Enter the number of rows(m) : \"))\n",
    "n = int(input(\"Enter the number of columns(n) : \"))\n",
    "arr2 = np.random.randint(0, 100, size=(m, n))\n",
    "print(arr2)\n",
    "\n",
    "print(\"Shape of array  :\", arr2.shape)\n",
    "print(\"Type of array  :\", type(arr2))\n",
    "print(\"Data type :\", arr2.dtype)\n",
    "\n",
    "reshaped_array = arr2.reshape(n, m)\n",
    "print(\"Reshaped array :\", reshaped_array)"
   ]
  },
  {
   "cell_type": "code",
   "execution_count": 13,
   "id": "78f4b790",
   "metadata": {},
   "outputs": [
    {
     "name": "stdout",
     "output_type": "stream",
     "text": [
      "Array: [10.  3. 25. 52.  0. nan  0. nan]\n",
      "Indices of Zero Elements are  [4 6]\n",
      "Indices of Non-Zero Elements are [0 1 2 3 5 7]\n",
      "Indices of NaN Elements are [5 7]\n"
     ]
    }
   ],
   "source": [
    "                                          #Part - d\n",
    "arr2 = np.array([10, 3, 25, 52, 0, np.nan, 0, np.nan])\n",
    "\n",
    "zero_indices = np.where(arr2 == 0)[0]\n",
    "non_zero_indices = np.where(arr2 != 0)[0]\n",
    "nan_indices = np.where(np.isnan(arr2))[0]\n",
    "\n",
    "print(\"Array:\", arr2)\n",
    "print(\"Indices of Zero Elements are \", zero_indices)\n",
    "print(\"Indices of Non-Zero Elements are\", non_zero_indices)\n",
    "print(\"Indices of NaN Elements are\", nan_indices)"
   ]
  }
 ],
 "metadata": {
  "kernelspec": {
   "display_name": "Python 3 (ipykernel)",
   "language": "python",
   "name": "python3"
  },
  "language_info": {
   "codemirror_mode": {
    "name": "ipython",
    "version": 3
   },
   "file_extension": ".py",
   "mimetype": "text/x-python",
   "name": "python",
   "nbconvert_exporter": "python",
   "pygments_lexer": "ipython3",
   "version": "3.11.4"
  }
 },
 "nbformat": 4,
 "nbformat_minor": 5
}
